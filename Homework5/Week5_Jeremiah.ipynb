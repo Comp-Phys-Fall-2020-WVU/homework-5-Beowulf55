{
  "nbformat": 4,
  "nbformat_minor": 0,
  "metadata": {
    "colab": {
      "name": "Week5_Jeremiah.ipynb",
      "provenance": [],
      "collapsed_sections": []
    },
    "kernelspec": {
      "name": "python3",
      "display_name": "Python 3"
    }
  },
  "cells": [
    {
      "cell_type": "markdown",
      "metadata": {
        "id": "hB3gaiCURO97"
      },
      "source": [
        "# Week Five: Integration and differentiation\n",
        "\n",
        "To be graded, your notebook must be runnable start to finish. If you can't make an in-notebook test pass, comment it out for to attempt to get partial credit. You should replace the `...` markers with your code. Do not change the names of the pre-defined ALL_CAPS variables and functions. (If you start from scratch, make sure you match the requested function names and requested ALL_CAPS variables). Other that that, you are free to define or make anything you wish. Remember that functions will often be tested with different numbers than the ones you are given."
      ]
    },
    {
      "cell_type": "code",
      "metadata": {
        "id": "yFGNyu1WRO97"
      },
      "source": [
        "# EID is your 6+2 UC Electronic ID\n",
        "EID = 'sixplus2'\n",
        "NAME = 'Joe Smith'"
      ],
      "execution_count": 1,
      "outputs": []
    },
    {
      "cell_type": "code",
      "metadata": {
        "id": "ajM8NNHORO9-"
      },
      "source": [
        "%matplotlib inline\n",
        "import numpy as np\n",
        "import matplotlib.pyplot as plt"
      ],
      "execution_count": 2,
      "outputs": []
    },
    {
      "cell_type": "markdown",
      "metadata": {
        "id": "EJQTQJ1FRO-A"
      },
      "source": [
        "# Problem 1: 2D Trapezoidal rule\n",
        "\n",
        "You can extend the trapezoidal rule to 2D. I'll give you a few hints:\n",
        "\n",
        "The weight matrix is:\n",
        "$$\n",
        "W_{ij} = \\begin{matrix}\n",
        "1 & 2 & 2 & \\cdots & 2 & 2 & 1 \\\\\n",
        "2 & 4 & 4 & \\cdots & 4 & 4 & 2 \\\\\n",
        "2 & 4 & 4 & \\cdots & 4 & 4 & 2 \\\\\n",
        "\\vdots & \\vdots & \\vdots & \\ddots & \\vdots & \\vdots & \\vdots \\\\\n",
        "2 & 4 & 4 & \\cdots & 4 & 4 & 2 \\\\\n",
        "2 & 4 & 4 & \\cdots & 4 & 4 & 2 \\\\\n",
        "1 & 2 & 2 & \\cdots & 2 & 2 & 1\n",
        "\\end{matrix}\n",
        "$$\n",
        "\n",
        "If you use the trick I used in the slides instead of explicitly creating this matrix, you would split the sum into 4 parts. However, it's really quite easy to make the matrix above\n",
        "\n",
        "The \"bin\" width $h$ is joined by the 2nd dimension bin width of $k$, and then the trapezoidal rule integral value is \n",
        "\n",
        "$$\n",
        "I_\\mathrm{tr} = \\frac{1}{4} h k \\sum_i \\sum_j W_{ij} f(x_{i}, y_{j})\n",
        "$$"
      ]
    },
    {
      "cell_type": "markdown",
      "metadata": {
        "id": "TRH1oqGbRO-A"
      },
      "source": [
        "Write a function that takes a 2-parameter function 'f' and integrates it with the given parameters (further explanations are built into the docstring of the function). I'm writing a Numpy-style docstring.\n",
        "\n",
        "See also: <http://mathfaculty.fullerton.edu/mathews/n2003/SimpsonsRule2DMod.html>"
      ]
    },
    {
      "cell_type": "code",
      "metadata": {
        "id": "7wVYVzwnRO-A"
      },
      "source": [
        "def trap_2d(f, xrange, yrange, xN, yN):\n",
        "    '''Integrate a 2D function with the trapezoidal rule.\n",
        "    \n",
        "    This takes a 2D function and integrates it over a 2D grid.\n",
        "    This uses the Trapezoidal rule in 2D.\n",
        "    \n",
        "    Parameters\n",
        "    ----------\n",
        "    f : callable\n",
        "        The function to integrate. The function should take an x and y value (possibly arrays).\n",
        "    xrange : (float, float)\n",
        "        The min and max values for x, as an array\n",
        "    yrange : (float, float)\n",
        "        The min and max values for y, as an array\n",
        "    xN : int\n",
        "        The number of evaluations along x\n",
        "    yN : int\n",
        "        The number of evaluations along x\n",
        "\n",
        "    Returns\n",
        "    -------\n",
        "    float\n",
        "        The total integral\n",
        "    \n",
        "    '''\n",
        "    # If these are *not* arrays, convert them into arrays. Otherwise, leave them alone.\n",
        "    # (If we used np.array, we'd needlessly make a copy if it aready was an array)\n",
        "    xrange = np.asarray(xrange)\n",
        "    yrange = np.asarray(yrange)\n",
        "    \n",
        "    # There are N-1 \"bins\"\n",
        "    h = (xrange[1] - xrange[0])/(xN)\n",
        "    k = (yrange[1] - yrange[0])/(yN)\n",
        "    x = np.linspace(0, xrange[1], xN+1)\n",
        "    y = np.linspace(0, yrange[1], yN+1)\n",
        "    xi = np.reshape(x,(1,xN+1))\n",
        "    yj = np.reshape(y,(yN+1,1))\n",
        "    print(xi)\n",
        "    print(yj)\n",
        "    fij = np.zeros((xN+1,yN+1))\n",
        "    print(fij)\n",
        "    for i in x:\n",
        "      for j in y:\n",
        "        if i == j:\n",
        "          fij[int(i),int(j)] = f(xi[0,int(i)],yj[int(j),0])\n",
        "    print(fij)\n",
        "    Wij = np.full((xN+1,yN+1), 4)\n",
        "    Wij[0,:] = 2; Wij[:,0] = 2; Wij[-1,:] = 2; Wij[:,-1] = 2; Wij[0,0] = 1; Wij[0,-1] = 1; Wij[-1,0] = 1; Wij[-1,-1] = 1\n",
        "    print(Wij)\n",
        "    integral = (0.25)*h*k*np.sum(np.dot(Wij,fij))\n",
        "    print(integral)"
      ],
      "execution_count": 3,
      "outputs": []
    },
    {
      "cell_type": "markdown",
      "metadata": {
        "id": "of2OeqoBRO-C"
      },
      "source": [
        "Feel free to add more tests, I'm adding the simplest one I can think of:"
      ]
    },
    {
      "cell_type": "code",
      "metadata": {
        "id": "9DlYkRFbRO-D"
      },
      "source": [
        "def f(x,y):\n",
        "    return y+3*x\n",
        "    #return 1"
      ],
      "execution_count": 4,
      "outputs": []
    },
    {
      "cell_type": "code",
      "metadata": {
        "id": "TEypki7WRO-E",
        "outputId": "c14f8add-b966-4a73-f802-40578e21d6ed",
        "colab": {
          "base_uri": "https://localhost:8080/",
          "height": 854
        }
      },
      "source": [
        "area = trap_2d(f, [0, 10], [0, 10], 10, 10)\n",
        "#assert np.isclose(area, 100)"
      ],
      "execution_count": 5,
      "outputs": [
        {
          "output_type": "stream",
          "text": [
            "[[ 0.  1.  2.  3.  4.  5.  6.  7.  8.  9. 10.]]\n",
            "[[ 0.]\n",
            " [ 1.]\n",
            " [ 2.]\n",
            " [ 3.]\n",
            " [ 4.]\n",
            " [ 5.]\n",
            " [ 6.]\n",
            " [ 7.]\n",
            " [ 8.]\n",
            " [ 9.]\n",
            " [10.]]\n",
            "[[0. 0. 0. 0. 0. 0. 0. 0. 0. 0. 0.]\n",
            " [0. 0. 0. 0. 0. 0. 0. 0. 0. 0. 0.]\n",
            " [0. 0. 0. 0. 0. 0. 0. 0. 0. 0. 0.]\n",
            " [0. 0. 0. 0. 0. 0. 0. 0. 0. 0. 0.]\n",
            " [0. 0. 0. 0. 0. 0. 0. 0. 0. 0. 0.]\n",
            " [0. 0. 0. 0. 0. 0. 0. 0. 0. 0. 0.]\n",
            " [0. 0. 0. 0. 0. 0. 0. 0. 0. 0. 0.]\n",
            " [0. 0. 0. 0. 0. 0. 0. 0. 0. 0. 0.]\n",
            " [0. 0. 0. 0. 0. 0. 0. 0. 0. 0. 0.]\n",
            " [0. 0. 0. 0. 0. 0. 0. 0. 0. 0. 0.]\n",
            " [0. 0. 0. 0. 0. 0. 0. 0. 0. 0. 0.]]\n",
            "[[ 0.  0.  0.  0.  0.  0.  0.  0.  0.  0.  0.]\n",
            " [ 0.  4.  0.  0.  0.  0.  0.  0.  0.  0.  0.]\n",
            " [ 0.  0.  8.  0.  0.  0.  0.  0.  0.  0.  0.]\n",
            " [ 0.  0.  0. 12.  0.  0.  0.  0.  0.  0.  0.]\n",
            " [ 0.  0.  0.  0. 16.  0.  0.  0.  0.  0.  0.]\n",
            " [ 0.  0.  0.  0.  0. 20.  0.  0.  0.  0.  0.]\n",
            " [ 0.  0.  0.  0.  0.  0. 24.  0.  0.  0.  0.]\n",
            " [ 0.  0.  0.  0.  0.  0.  0. 28.  0.  0.  0.]\n",
            " [ 0.  0.  0.  0.  0.  0.  0.  0. 32.  0.  0.]\n",
            " [ 0.  0.  0.  0.  0.  0.  0.  0.  0. 36.  0.]\n",
            " [ 0.  0.  0.  0.  0.  0.  0.  0.  0.  0. 40.]]\n",
            "[[1 2 2 2 2 2 2 2 2 2 1]\n",
            " [2 4 4 4 4 4 4 4 4 4 2]\n",
            " [2 4 4 4 4 4 4 4 4 4 2]\n",
            " [2 4 4 4 4 4 4 4 4 4 2]\n",
            " [2 4 4 4 4 4 4 4 4 4 2]\n",
            " [2 4 4 4 4 4 4 4 4 4 2]\n",
            " [2 4 4 4 4 4 4 4 4 4 2]\n",
            " [2 4 4 4 4 4 4 4 4 4 2]\n",
            " [2 4 4 4 4 4 4 4 4 4 2]\n",
            " [2 4 4 4 4 4 4 4 4 4 2]\n",
            " [1 2 2 2 2 2 2 2 2 2 1]]\n",
            "2000.0\n"
          ],
          "name": "stdout"
        }
      ]
    },
    {
      "cell_type": "markdown",
      "metadata": {
        "id": "1kdbxdZfRO-G"
      },
      "source": [
        "# Problem 2: MC integration\n",
        "\n",
        "Write a function that performs MC integration of an unknown function of N dimensions. You can use `f(*array)` to call the function with the correct number of arguments (it expands to `f(array[0], array[1], ..., array[N])`). Return **two** values; the estimated integral and the estimated error on the integral."
      ]
    },
    {
      "cell_type": "code",
      "metadata": {
        "id": "tx6CLMyKRO-G"
      },
      "source": [
        "def mc_integrate(f, N, samples, ranges):\n",
        "    '''\n",
        "    Integrate an ND function with a set of sampled MC points.\n",
        "    \n",
        "    Parameters\n",
        "    ----------\n",
        "    f : callable\n",
        "        The function to integrate. The function should take N\n",
        "        values (possibly equal length arrays).\n",
        "    N : int\n",
        "        The min and max values for x, as an array\n",
        "    samples : int\n",
        "        The number of samples to integrate over\n",
        "    ranges : array[2, N]\n",
        "        An array with the min and max for each dimension.\n",
        "\n",
        "    Returns\n",
        "    -------\n",
        "    float\n",
        "        The total integral\n",
        "    float\n",
        "        The estimated error = relative error * the total integral.\n",
        "    '''\n",
        "    \n",
        "    ranges = np.asarray(ranges) # Just making sure ranges is an array\n",
        "    # Hint: You can turn a 1D array, such as arr = array([a, b]) into a 2D array\n",
        "    # with arr[:,np.newaxis] or arr[:,None] or arr.reshape(2,1) or arr.reshape(-1,1)\n",
        "    \n",
        "    # Our definition of ranges matches what you find in Scipy, and is natural to type,\n",
        "    # but is a but less natural to use, for example:\n",
        "    widths = ranges[:,1] + ranges[:,0] #[1 1] for given f(x,y)\n",
        "    ndx = np.random.rand(N,samples)-1\n",
        "    ndy = np.random.rand(N,samples)-1\n",
        "    ndintegral = np.absolute(np.mean(f(ndx,ndy)))\n",
        "    return ndintegral"
      ],
      "execution_count": 241,
      "outputs": []
    },
    {
      "cell_type": "code",
      "metadata": {
        "id": "ZihrhASjRO-J"
      },
      "source": [
        "def f(x,y):\n",
        "    return x + y"
      ],
      "execution_count": 239,
      "outputs": []
    },
    {
      "cell_type": "code",
      "metadata": {
        "id": "ArxFxjabRO-K",
        "outputId": "f475c65a-032a-49f4-a3a5-169109e8799e",
        "colab": {
          "base_uri": "https://localhost:8080/",
          "height": 35
        }
      },
      "source": [
        "integral = mc_integrate(f, 2, 10_000, [[0,1],[0,1]])"
      ],
      "execution_count": 240,
      "outputs": [
        {
          "output_type": "stream",
          "text": [
            "1.5088060838810733\n"
          ],
          "name": "stdout"
        }
      ]
    },
    {
      "cell_type": "code",
      "metadata": {
        "id": "gZriWRN_RO-M",
        "outputId": "a7a3a406-7ffa-4bd3-890c-9372c43332f4",
        "colab": {
          "base_uri": "https://localhost:8080/",
          "height": 171
        }
      },
      "source": [
        "print(integral, error)"
      ],
      "execution_count": 237,
      "outputs": [
        {
          "output_type": "error",
          "ename": "NameError",
          "evalue": "ignored",
          "traceback": [
            "\u001b[0;31m---------------------------------------------------------------------------\u001b[0m",
            "\u001b[0;31mNameError\u001b[0m                                 Traceback (most recent call last)",
            "\u001b[0;32m<ipython-input-237-ebd389182723>\u001b[0m in \u001b[0;36m<module>\u001b[0;34m()\u001b[0m\n\u001b[0;32m----> 1\u001b[0;31m \u001b[0mprint\u001b[0m\u001b[0;34m(\u001b[0m\u001b[0mintegral\u001b[0m\u001b[0;34m,\u001b[0m \u001b[0merror\u001b[0m\u001b[0;34m)\u001b[0m\u001b[0;34m\u001b[0m\u001b[0;34m\u001b[0m\u001b[0m\n\u001b[0m",
            "\u001b[0;31mNameError\u001b[0m: name 'error' is not defined"
          ]
        }
      ]
    },
    {
      "cell_type": "markdown",
      "metadata": {
        "id": "dHkUndfURO-O"
      },
      "source": [
        "#### For comparison, we could use NQuad from Scipy:"
      ]
    },
    {
      "cell_type": "code",
      "metadata": {
        "id": "X08T5pC2RO-O"
      },
      "source": [
        "from scipy import integrate"
      ],
      "execution_count": 11,
      "outputs": []
    },
    {
      "cell_type": "code",
      "metadata": {
        "id": "mYjS148nRO-P",
        "outputId": "aa0d24bf-545d-4db4-bdb8-e63f5be69ec4",
        "colab": {
          "base_uri": "https://localhost:8080/",
          "height": 35
        }
      },
      "source": [
        "integrate.nquad(f, [[0,1],[0,1]])"
      ],
      "execution_count": 12,
      "outputs": [
        {
          "output_type": "execute_result",
          "data": {
            "text/plain": [
              "(1.0, 1.662923778137264e-14)"
            ]
          },
          "metadata": {
            "tags": []
          },
          "execution_count": 12
        }
      ]
    },
    {
      "cell_type": "markdown",
      "metadata": {
        "id": "TH3BAHTmRO-R"
      },
      "source": [
        "# Problem 3: Second derivatives"
      ]
    },
    {
      "cell_type": "markdown",
      "metadata": {
        "id": "335Jie5aRO-R"
      },
      "source": [
        "Write a function that calculates:\n",
        "\n",
        "$$\n",
        "\\frac{d^2 f(t)}{dt^2} \\Biggr\\rvert_\\mathrm{cd}\n",
        "=\n",
        "\\frac{\n",
        "\\left[\n",
        "f(t + h) - f(t)\n",
        "\\right] - \\left[\n",
        "f(t) - f(t - h)\n",
        "\\right]\n",
        "}{h^2}\n",
        "$$\n",
        "\n",
        "(The notes in class had a typo, fixed here.) Write a nice docstring as well."
      ]
    },
    {
      "cell_type": "code",
      "metadata": {
        "id": "3B00Wl0ZRO-S"
      },
      "source": [
        "def d2fdt2(f, t, h):\n",
        "    '''...\n",
        "    '''\n",
        "    ..."
      ],
      "execution_count": null,
      "outputs": []
    },
    {
      "cell_type": "markdown",
      "metadata": {
        "id": "NeYTFLg9RO-U"
      },
      "source": [
        "Test your `d2fdt2` function on a function that you know the derivative for."
      ]
    },
    {
      "cell_type": "code",
      "metadata": {
        "id": "mzBK5GNHRO-V"
      },
      "source": [
        "..."
      ],
      "execution_count": null,
      "outputs": []
    }
  ]
}